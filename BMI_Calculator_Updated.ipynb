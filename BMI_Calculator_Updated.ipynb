{
 "cells": [
  {
   "cell_type": "code",
   "execution_count": null,
   "id": "c86fb9e7-e97a-4f02-ae17-e9d55c8bacc3",
   "metadata": {},
   "outputs": [
    {
     "name": "stdin",
     "output_type": "stream",
     "text": [
      "Enter your name:  5\n"
     ]
    }
   ],
   "source": [
    "try:\n",
    "    name = input('Enter your name: ')\n",
    "    weight = float(input('Enter your weight in pounds: '))\n",
    "    height = float(input('Enter your height in inches: '))\n",
    "\n",
    "    if weight <= 0 or height <= 0:\n",
    "        print(\"Invalid input! Weight and height must be positive numbers.\")\n",
    "    else:\n",
    "        BMI = round((weight * 703) / (height ** 2), 2)\n",
    "        print(f\"Your BMI is: {BMI}\")\n",
    "\n",
    "        if BMI < 18.5:\n",
    "            category = \"underweight\"\n",
    "        elif BMI < 25:\n",
    "            category = \"normal weight\"\n",
    "        elif BMI < 30:\n",
    "            category = \"overweight\"\n",
    "        elif BMI < 35:\n",
    "            category = \"obese\"\n",
    "        elif BMI < 40:\n",
    "            category = \"severely obese\"\n",
    "        else:\n",
    "            category = \"morbidly obese\"\n",
    "\n",
    "        print(f\"{name}, you are {category}.\")\n",
    "\n",
    "except ValueError:\n",
    "    print(\"Invalid input! Please enter numeric values.\")"
   ]
  },
  {
   "cell_type": "code",
   "execution_count": null,
   "id": "f3d509be-69b6-489e-8705-cf89726d739d",
   "metadata": {},
   "outputs": [],
   "source": []
  },
  {
   "cell_type": "code",
   "execution_count": null,
   "id": "5999b692-3431-4b17-867e-380bb4de1cdc",
   "metadata": {},
   "outputs": [],
   "source": []
  },
  {
   "cell_type": "markdown",
   "id": "10845c9a-0349-4371-9d7f-83075abc9e57",
   "metadata": {},
   "source": [
    "BMI Chart"
   ]
  },
  {
   "cell_type": "code",
   "execution_count": null,
   "id": "67bb9d80-878b-4439-a59c-b4fae87c7577",
   "metadata": {},
   "outputs": [],
   "source": [
    "Under 18.5\tUnderweight\tMinimal\n",
    "18.5 - 24.9\tNormal Weight\tMinimal\n",
    "25 - 29.9\tOverweight\tIncreased\n",
    "30 - 34.9\tObese\tHigh\n",
    "35 - 39.9\tSeverely Obese\tVery High\n",
    "40 and over\tMorbidly Obese\tExtremely High"
   ]
  },
  {
   "cell_type": "code",
   "execution_count": null,
   "id": "cba16794-ba1d-47b6-954c-0b201ee6acae",
   "metadata": {},
   "outputs": [],
   "source": []
  },
  {
   "cell_type": "code",
   "execution_count": null,
   "id": "5fab322c-3c67-4aa6-819d-b998af55207c",
   "metadata": {},
   "outputs": [],
   "source": []
  },
  {
   "cell_type": "code",
   "execution_count": null,
   "id": "7ccd8a6b-7454-4059-b601-6aee822a5c2c",
   "metadata": {},
   "outputs": [],
   "source": []
  },
  {
   "cell_type": "code",
   "execution_count": null,
   "id": "ca35d727-4182-4785-8874-db1754664477",
   "metadata": {},
   "outputs": [],
   "source": []
  },
  {
   "cell_type": "code",
   "execution_count": null,
   "id": "57d1b677-3196-40a7-8f5c-c49adc1870d8",
   "metadata": {},
   "outputs": [],
   "source": []
  },
  {
   "cell_type": "code",
   "execution_count": null,
   "id": "a5ea682e-6a33-4b4a-88fd-c1eb681d2282",
   "metadata": {},
   "outputs": [],
   "source": []
  },
  {
   "cell_type": "code",
   "execution_count": null,
   "id": "ebfd9b1d-5a77-438d-a61b-fb8ccb4938dc",
   "metadata": {},
   "outputs": [],
   "source": []
  }
 ],
 "metadata": {
  "kernelspec": {
   "display_name": "Python 3 (ipykernel)",
   "language": "python",
   "name": "python3"
  },
  "language_info": {
   "codemirror_mode": {
    "name": "ipython",
    "version": 3
   },
   "file_extension": ".py",
   "mimetype": "text/x-python",
   "name": "python",
   "nbconvert_exporter": "python",
   "pygments_lexer": "ipython3",
   "version": "3.13.1"
  }
 },
 "nbformat": 4,
 "nbformat_minor": 5
}
